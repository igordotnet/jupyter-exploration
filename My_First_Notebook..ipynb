{
 "cells": [
  {
   "cell_type": "raw",
   "id": "442bac50-091a-4447-bfd4-e45a64072c18",
   "metadata": {},
   "source": [
    "Hello there! My name is Igor and I want to tell you the basics of Notebook!\n",
    "\n",
    "Types of Cells in a Jupyter Notebook:\n",
    "1.Code Cells: These cells contain executable code. In a Jupyter Notebook, you can write code in the language that your Jupyter server is running (typically Python, although other languages like R and Julia are also supported). When you run a code cell, the code is executed, and the output is displayed beneath the cell. This output might be text, tables, figures, or error messages.\n",
    "\n",
    "2.Markdown Cells: These cells contain text formatted using Markdown, a lightweight markup language. Markdown cells can include rich text elements like headings, links, lists, formatted text, images, and even LaTeX equations. These cells are not executable; they are meant for writing explanatory text, documentation, and academic-style narratives.\n",
    "\n",
    "3.Raw Cells: These cells are not often used, although it's being used now to display this block of text. They allow you to write output directly. Raw cells are neither formatted like Markdown nor executed like code. They might be useful in certain advanced scenarios, such as when generating content for static rendering in formats like PDF."
   ]
  },
  {
   "cell_type": "code",
   "execution_count": 1,
   "id": "bc8b569d-0bdd-42ba-91b3-0c161f4dae28",
   "metadata": {},
   "outputs": [
    {
     "name": "stdout",
     "output_type": "stream",
     "text": [
      "Hello, World!\n"
     ]
    }
   ],
   "source": [
    "print(\"Hello, World!\")"
   ]
  },
  {
   "cell_type": "markdown",
   "id": "42406621-8ad8-491e-8fe5-6c586c3dbacc",
   "metadata": {},
   "source": [
    "My first markdown cell in Jupyter, you can tell because there are no brackets on the left side!"
   ]
  }
 ],
 "metadata": {
  "kernelspec": {
   "display_name": "Python 3 (ipykernel)",
   "language": "python",
   "name": "python3"
  },
  "language_info": {
   "codemirror_mode": {
    "name": "ipython",
    "version": 3
   },
   "file_extension": ".py",
   "mimetype": "text/x-python",
   "name": "python",
   "nbconvert_exporter": "python",
   "pygments_lexer": "ipython3",
   "version": "3.9.13"
  }
 },
 "nbformat": 4,
 "nbformat_minor": 5
}
